{
 "cells": [
  {
   "cell_type": "code",
   "execution_count": null,
   "id": "7cdc0525-30d4-4aae-a0de-528ef91fca8b",
   "metadata": {},
   "outputs": [],
   "source": [
    "#creating a function that greets guests and allocates rooms\n",
    "#create two lists\n",
    "#use input function for name\n",
    "#dispaly remaining rooms available\n",
    "#display greeting and room allocated\n"
   ]
  },
  {
   "cell_type": "code",
   "execution_count": 4,
   "id": "ce0ebd55-67cf-4327-a0ef-25a7a137984b",
   "metadata": {},
   "outputs": [
    {
     "name": "stdout",
     "output_type": "stream",
     "text": [
      "Welcome to our hotel!\n",
      "hello Amase\n",
      "rooms available [1, 2, 3, 4, 5, 6]\n"
     ]
    },
    {
     "name": "stdin",
     "output_type": "stream",
     "text": [
      "which room would you want? Amase 5\n"
     ]
    },
    {
     "name": "stdout",
     "output_type": "stream",
     "text": [
      "Thank you for choosing room 5. Enjoy your stay!\n",
      "hello Rodgers\n",
      "rooms available [1, 2, 3, 4, 6]\n"
     ]
    },
    {
     "name": "stdin",
     "output_type": "stream",
     "text": [
      "which room would you want? Rodgers 6\n"
     ]
    },
    {
     "name": "stdout",
     "output_type": "stream",
     "text": [
      "Thank you for choosing room 6. Enjoy your stay!\n",
      "hello Petina\n",
      "rooms available [1, 2, 3, 4]\n"
     ]
    },
    {
     "name": "stdin",
     "output_type": "stream",
     "text": [
      "which room would you want? Petina 1\n"
     ]
    },
    {
     "name": "stdout",
     "output_type": "stream",
     "text": [
      "Thank you for choosing room 1. Enjoy your stay!\n",
      "hello David\n",
      "rooms available [2, 3, 4]\n"
     ]
    },
    {
     "name": "stdin",
     "output_type": "stream",
     "text": [
      "which room would you want? David 2\n"
     ]
    },
    {
     "name": "stdout",
     "output_type": "stream",
     "text": [
      "Thank you for choosing room 2. Enjoy your stay!\n",
      "hello Berenice\n",
      "rooms available [3, 4]\n"
     ]
    },
    {
     "name": "stdin",
     "output_type": "stream",
     "text": [
      "which room would you want? Berenice 4\n"
     ]
    },
    {
     "name": "stdout",
     "output_type": "stream",
     "text": [
      "Thank you for choosing room 4. Enjoy your stay!\n",
      "hello Kago\n",
      "rooms available [3]\n"
     ]
    },
    {
     "name": "stdin",
     "output_type": "stream",
     "text": [
      "which room would you want? Kago 3\n"
     ]
    },
    {
     "name": "stdout",
     "output_type": "stream",
     "text": [
      "Thank you for choosing room 3. Enjoy your stay!\n"
     ]
    }
   ],
   "source": [
    "def greeting():\n",
    "    guests = ['Amase','Rodgers','Petina','David','Berenice','Kago']\n",
    "    rooms = [1,2,3,4,5,6]\n",
    "    chosen={}\n",
    "    print(\"Welcome to our hotel!\")\n",
    "    for guest in guests:\n",
    "        print(f\"hello {guest}\")\n",
    "        print(f'rooms available {rooms}')\n",
    "        rooms_input = int(input(f\"which room would you want? {guest}\"))\n",
    "        if rooms_input in rooms:\n",
    "            print(f\"Thank you for choosing room {rooms_input}. Enjoy your stay!\")\n",
    "            chosen[guest] = rooms_input\n",
    "            rooms.remove(rooms_input) \n",
    "        else:\n",
    "            while True:\n",
    "                print(f\"Sorry, room is already booked.Please choose another room.Which {rooms_input} room would you want? {guest}\")\n",
    "                if rooms_input in rooms:\n",
    "                    print(f\"Thank you for choosing room {rooms_input}. Enjoy your stay!\")\n",
    "                    chosen[guest] = rooms_input\n",
    "                    rooms.remove(rooms_input) \n",
    "                    break\n",
    "greeting()                   "
   ]
  },
  {
   "cell_type": "code",
   "execution_count": null,
   "id": "2e59b988-7c1c-4493-9b5e-51187f1636ab",
   "metadata": {},
   "outputs": [],
   "source": []
  },
  {
   "cell_type": "code",
   "execution_count": null,
   "id": "d1544aee-1eb8-4a50-958e-236bbc655f94",
   "metadata": {},
   "outputs": [],
   "source": []
  }
 ],
 "metadata": {
  "kernelspec": {
   "display_name": "Python 3 (ipykernel)",
   "language": "python",
   "name": "python3"
  },
  "language_info": {
   "codemirror_mode": {
    "name": "ipython",
    "version": 3
   },
   "file_extension": ".py",
   "mimetype": "text/x-python",
   "name": "python",
   "nbconvert_exporter": "python",
   "pygments_lexer": "ipython3",
   "version": "3.12.4"
  }
 },
 "nbformat": 4,
 "nbformat_minor": 5
}
