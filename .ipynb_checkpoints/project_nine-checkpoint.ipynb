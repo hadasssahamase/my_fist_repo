{
 "cells": [
  {
   "cell_type": "markdown",
   "id": "22768f35-f8c0-416c-a975-55d6632c9a27",
   "metadata": {},
   "source": [
    "E-COMMERCE ANALYTICS"
   ]
  },
  {
   "cell_type": "raw",
   "id": "df953cca-f96c-4d52-b39a-1d3b5fad1148",
   "metadata": {},
   "source": [
    "1. Create the Tables\n",
    "Write SQL statements to create the following tables:\n",
    "\n",
    "Table: Customers\n",
    "\n",
    "CustomerID (Primary Key, INT)\n",
    "Name (VARCHAR)\n",
    "Country (VARCHAR)\n",
    "Table: Orders\n",
    "\n",
    "OrderID (Primary Key, INT)\n",
    "CustomerID (Foreign Key, INT)\n",
    "OrderDate (DATE)\n",
    "Amount (DECIMAL)\n",
    "Table: Products\n",
    "\n",
    "ProductID (Primary Key, INT)\n",
    "ProductName (VARCHAR)\n",
    "Category (VARCHAR)\n",
    "Price (DECIMAL)\n",
    "Table: OrderDetails\n",
    "\n",
    "OrderDetailID (Primary Key, INT)\n",
    "OrderID (Foreign Key, INT)\n",
    "ProductID (Foreign Key, INT)\n",
    "Quantity (INT)\n",
    "\n",
    "3. Questions to Solve\n",
    "Use SQL queries to answer these questions:\n",
    "\n",
    "Find all orders placed by customers from the USA.\n",
    "Use the WHERE clause to filter.\n",
    "\n",
    "List all products in the \"Electronics\" category sorted by price in descending order.\n",
    "Use ORDER BY.\n",
    "\n",
    "Get the total number of orders and total revenue for each customer.\n",
    "Use GROUP BY with aggregate functions (COUNT, SUM).\n",
    "\n",
    "Find the most expensive product purchased in each order.\n",
    "Use GROUP BY and MAX.\n",
    "\n",
    "Show the total revenue generated per product.\n",
    "Join tables and use SUM."
   ]
  },
  {
   "cell_type": "code",
   "execution_count": 1,
   "id": "8098232f-d30d-4595-88f5-fbb1ffb33864",
   "metadata": {},
   "outputs": [],
   "source": [
    "# importing necessary libraries\n",
    "import sqlite3\n",
    "import pandas as pd \n",
    "import numpy as np"
   ]
  },
  {
   "cell_type": "code",
   "execution_count": null,
   "id": "883967b2-166c-44b4-904c-e2fd06db4f9d",
   "metadata": {},
   "outputs": [],
   "source": [
    "# Creating a new database and tables\n",
    "conn = sqlite3.connect(\"C:\\Users\\ADMIN\\OneDrive\\Desktop\\Sql Datascience\\mydb.sqlite\")\n",
    "# create a cursor\n",
    "cursor = conn.cursor()\n",
    "cursor.execute(\"\"\"\n",
    "CREATE TABLE IF NOT EXISTS customers(\n",
    "CustomerID (Primary Key, INT),\n",
    "Name (VARCHAR),\n",
    "Country (VARCHAR),\n",
    "\n",
    ")"
   ]
  }
 ],
 "metadata": {
  "kernelspec": {
   "display_name": "Python 3 (ipykernel)",
   "language": "python",
   "name": "python3"
  },
  "language_info": {
   "codemirror_mode": {
    "name": "ipython",
    "version": 3
   },
   "file_extension": ".py",
   "mimetype": "text/x-python",
   "name": "python",
   "nbconvert_exporter": "python",
   "pygments_lexer": "ipython3",
   "version": "3.12.4"
  }
 },
 "nbformat": 4,
 "nbformat_minor": 5
}
