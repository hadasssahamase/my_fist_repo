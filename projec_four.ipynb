{
 "cells": [
  {
   "cell_type": "code",
   "execution_count": null,
   "id": "5947c028-6745-4020-a176-52f77e74313c",
   "metadata": {},
   "outputs": [],
   "source": [
    "create a function that will input a patient's name, age ,sex and weight into a list or dictionary. have a user input for the patient's ailments. \n",
    "create a list or dictionary with conditions and prescriptions that you will use matchcase statements to prescribe the medicine in the above list or dictionary. \n",
    "create a default statement so that when a patient  inputs a condition that is not in your list either refer or admit."
   ]
  },
  {
   "cell_type": "code",
   "execution_count": 28,
   "id": "b2e0b105-7f2f-41fc-bb4b-1cdd07f4acc6",
   "metadata": {},
   "outputs": [
    {
     "name": "stdin",
     "output_type": "stream",
     "text": [
      "Enter key:  name \n",
      "Enter value:  tom\n",
      "Enter key:  age \n",
      "Enter value:  34\n",
      "Enter key:  sex\n",
      "Enter value:  male\n",
      "Enter key:  weight\n",
      "Enter value:  78\n",
      "How are you feeling today?  chestpains\n"
     ]
    },
    {
     "name": "stdout",
     "output_type": "stream",
     "text": [
      "Take Digoxin\n"
     ]
    }
   ],
   "source": [
    "def treatment():\n",
    "    biodata={}\n",
    "    for _ in range(4): \n",
    "        key = input(\"Enter key: \")\n",
    "        value = input(\"Enter value: \")\n",
    "        if value.isdigit():  \n",
    "            value = int(value)\n",
    "        else:\n",
    "                try:\n",
    "                    value = float(value) \n",
    "                except ValueError:\n",
    "                    pass \n",
    "    \n",
    "        biodata[key] = value\n",
    "    ailments = input(\"How are you feeling today? \").lower()\n",
    "    \n",
    "    match ailments:\n",
    "        case 'cough':\n",
    "            print(\"Take Ascoril syrup\")\n",
    "        case 'stomachache':\n",
    "            print(\"Take Metronidazole\")\n",
    "        case 'crumps':\n",
    "            print(\"Take Brufen\")\n",
    "        case 'chestpains':\n",
    "            print(\"Take Digoxin\")\n",
    "        case _:\n",
    "            print(\"Admit or Refer\")\n",
    "        \n",
    "        \n",
    "\n",
    "treatment()"
   ]
  },
  {
   "cell_type": "code",
   "execution_count": null,
   "id": "8be976ec-9db6-4576-9759-0b71734d78e8",
   "metadata": {},
   "outputs": [],
   "source": []
  }
 ],
 "metadata": {
  "kernelspec": {
   "display_name": "Python 3 (ipykernel)",
   "language": "python",
   "name": "python3"
  },
  "language_info": {
   "codemirror_mode": {
    "name": "ipython",
    "version": 3
   },
   "file_extension": ".py",
   "mimetype": "text/x-python",
   "name": "python",
   "nbconvert_exporter": "python",
   "pygments_lexer": "ipython3",
   "version": "3.12.4"
  }
 },
 "nbformat": 4,
 "nbformat_minor": 5
}
