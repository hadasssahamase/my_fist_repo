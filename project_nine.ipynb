{
 "cells": [
  {
   "cell_type": "markdown",
   "id": "22768f35-f8c0-416c-a975-55d6632c9a27",
   "metadata": {},
   "source": [
    "E-COMMERCE ANALYTICS"
   ]
  },
  {
   "cell_type": "raw",
   "id": "df953cca-f96c-4d52-b39a-1d3b5fad1148",
   "metadata": {},
   "source": [
    "1. Create the Tables\n",
    "Write SQL statements to create the following tables:\n",
    "\n",
    "Table: Customers\n",
    "\n",
    "CustomerID (Primary Key, INT)\n",
    "Name (VARCHAR)\n",
    "Country (VARCHAR)\n",
    "Table: Orders\n",
    "\n",
    "OrderID (Primary Key, INT)\n",
    "CustomerID (Foreign Key, INT)\n",
    "OrderDate (DATE)\n",
    "Amount (DECIMAL)\n",
    "Table: Products\n",
    "\n",
    "ProductID (Primary Key, INT)\n",
    "ProductName (VARCHAR)\n",
    "Category (VARCHAR)\n",
    "Price (DECIMAL)\n",
    "Table: OrderDetails\n",
    "\n",
    "OrderDetailID (Primary Key, INT)\n",
    "OrderID (Foreign Key, INT)\n",
    "ProductID (Foreign Key, INT)\n",
    "Quantity (INT)\n",
    "\n",
    "3. Questions to Solve\n",
    "Use SQL queries to answer these questions:\n",
    "\n",
    "Find all orders placed by customers from the USA.\n",
    "Use the WHERE clause to filter.\n",
    "\n",
    "List all products in the \"Electronics\" category sorted by price in descending order.\n",
    "Use ORDER BY.\n",
    "\n",
    "Get the total number of orders and total revenue for each customer.\n",
    "Use GROUP BY with aggregate functions (COUNT, SUM).\n",
    "\n",
    "Find the most expensive product purchased in each order.\n",
    "Use GROUP BY and MAX.\n",
    "\n",
    "Show the total revenue generated per product.\n",
    "Join tables and use SUM."
   ]
  },
  {
   "cell_type": "code",
   "execution_count": 1,
   "id": "8098232f-d30d-4595-88f5-fbb1ffb33864",
   "metadata": {},
   "outputs": [],
   "source": [
    "# importing necessary libraries\n",
    "import sqlite3\n",
    "import pandas as pd \n",
    "import numpy as np"
   ]
  },
  {
   "cell_type": "code",
   "execution_count": 7,
   "id": "883967b2-166c-44b4-904c-e2fd06db4f9d",
   "metadata": {},
   "outputs": [
    {
     "ename": "OperationalError",
     "evalue": "near \")\": syntax error",
     "output_type": "error",
     "traceback": [
      "\u001b[1;31m---------------------------------------------------------------------------\u001b[0m",
      "\u001b[1;31mOperationalError\u001b[0m                          Traceback (most recent call last)",
      "Cell \u001b[1;32mIn[7], line 5\u001b[0m\n\u001b[0;32m      3\u001b[0m \u001b[38;5;66;03m# create a cursor\u001b[39;00m\n\u001b[0;32m      4\u001b[0m cursor \u001b[38;5;241m=\u001b[39m conn\u001b[38;5;241m.\u001b[39mcursor()\n\u001b[1;32m----> 5\u001b[0m cursor\u001b[38;5;241m.\u001b[39mexecute(\u001b[38;5;124m\"\"\"\u001b[39m\n\u001b[0;32m      6\u001b[0m \u001b[38;5;124mCREATE TABLE IF NOT EXISTS customers(\u001b[39m\n\u001b[0;32m      7\u001b[0m \u001b[38;5;124mCustomerID INT PRIMARY KEY,\u001b[39m\n\u001b[0;32m      8\u001b[0m \u001b[38;5;124mName VARCHAR,\u001b[39m\n\u001b[0;32m      9\u001b[0m \u001b[38;5;124mCountry VARCHAR,\u001b[39m\n\u001b[0;32m     10\u001b[0m \u001b[38;5;124m);\u001b[39m\u001b[38;5;124m\"\"\"\u001b[39m)\n",
      "\u001b[1;31mOperationalError\u001b[0m: near \")\": syntax error"
     ]
    }
   ],
   "source": [
    "# Creating a new database and tables\n",
    "conn = sqlite3.connect(\"C:/Users/ADMIN/OneDrive/Desktop/Sql Datascience/mydb.sqlite\")\n",
    "# create a cursor\n",
    "cursor = conn.cursor()\n",
    "cursor.execute(\"\"\"\n",
    "CREATE TABLE IF NOT EXISTS customers(\n",
    "CustomerID INT PRIMARY KEY,\n",
    "Name VARCHAR,\n",
    "Country VARCHAR,\n",
    ");\"\"\")"
   ]
  },
  {
   "cell_type": "code",
   "execution_count": null,
   "id": "41ab853c-0519-43d5-9ece-76021896f609",
   "metadata": {},
   "outputs": [],
   "source": [
    "# creatong orders table\n",
    "cursor.execute(\"\"\"CREATE TABLE Orders (\n",
    "    OrderID INT PRIMARY KEY,\n",
    "    CustomerID INT,\n",
    "    OrderDate DATE,\n",
    "    Amount REAL(10, 2),\n",
    "    FOREIGN KEY (CustomerID) REFERENCES Customers(CustomerID)\n",
    ");\"\"\")\n"
   ]
  },
  {
   "cell_type": "code",
   "execution_count": null,
   "id": "9dfbc480-6326-4bde-9fc8-731660db67ff",
   "metadata": {},
   "outputs": [],
   "source": [
    "# creating products table\n",
    "cursor.execute(\"\"\"CREATE TABLE Products (\n",
    "    ProductID INT PRIMARY KEY,\n",
    "    ProductName VARCHAR(90),\n",
    "    Category VARCHAR(30),\n",
    "    Price DECIMAL(10, 2)\n",
    ");\"\"\")\n"
   ]
  },
  {
   "cell_type": "code",
   "execution_count": null,
   "id": "032d97c6-ac2a-477f-8c22-cbdb9ef1a5f1",
   "metadata": {},
   "outputs": [],
   "source": [
    "# creating orderdetails table\n",
    "cursor.execute(\"\"\"CREATE TABLE OrderDetails (\n",
    "    OrderDetailID INT PRIMARY KEY,\n",
    "    OrderID INT,\n",
    "    ProductID INT,\n",
    "    Quantity INT,\n",
    "    FOREIGN KEY (OrderID) REFERENCES Orders(OrderID),\n",
    "    FOREIGN KEY (ProductID) REFERENCES Products(ProductID)\n",
    ");\"\"\")\n"
   ]
  },
  {
   "cell_type": "code",
   "execution_count": null,
   "id": "37e17c61-6b04-4b0c-84ba-c88661bf678f",
   "metadata": {},
   "outputs": [],
   "source": [
    "# inserting values to customers table\n",
    "cursor.execute(\"\"\"INSERT INTO Customers (CustomerID, Name, Country)\n",
    "VALUES\n",
    "(1, 'Alice', 'USA'),\n",
    "(2, 'Bob', 'Canada'),\n",
    "(3, 'Charlie', 'UK');\n",
    "\"\"\")\n"
   ]
  },
  {
   "cell_type": "code",
   "execution_count": null,
   "id": "c5895f00-8dcf-47e6-9cd3-81515408b2e1",
   "metadata": {},
   "outputs": [],
   "source": [
    "# inserting values to orders table\n",
    "cursor.execute(\"\"\"INSERT INTO Orders (OrderID, CustomerID, OrderDate, Amount)\n",
    "VALUES\n",
    "(101, 1, '2024-12-01', 250.00),\n",
    "(102, 2, '2024-12-05', 450.00),\n",
    "(103, 3, '2024-12-10', 150.00);\n",
    "\"\"\")\n"
   ]
  },
  {
   "cell_type": "code",
   "execution_count": null,
   "id": "0211efc9-51d0-44cc-ae98-0904503e40d4",
   "metadata": {},
   "outputs": [],
   "source": [
    "# inserting values into products table\n",
    "cursor.execute(\"\"\"INSERT INTO Products (ProductID, ProductName, Category, Price)\n",
    "VALUES\n",
    "(1, 'Laptop', 'Electronics', 800.00),\n",
    "(2, 'Mouse', 'Electronics', 20.00),\n",
    "(3, 'Book', 'Books', 15.00);\n",
    "\"\"\")\n"
   ]
  },
  {
   "cell_type": "code",
   "execution_count": null,
   "id": "c7260e97-7c78-4665-b88e-9dfc6a94ea02",
   "metadata": {},
   "outputs": [],
   "source": [
    "# inserting values into orderdetails table\n",
    "cursor.execute(\"\"\"INSERT INTO OrderDetails (OrderDetailID, OrderID, ProductID, Quantity)\n",
    "VALUES\n",
    "(1, 101, 1, 1),\n",
    "(2, 101, 2, 2),\n",
    "(3, 102, 3, 10);\n",
    "\"\"\")\n"
   ]
  },
  {
   "cell_type": "code",
   "execution_count": null,
   "id": "d9415e0a-227e-4360-a350-ae1457a3785c",
   "metadata": {},
   "outputs": [],
   "source": [
    "# Find all orders placed by customers from the USA.\n",
    "# Use the WHERE clause to filter.\n",
    "\n"
   ]
  },
  {
   "cell_type": "code",
   "execution_count": null,
   "id": "be4f1517-06b6-40b1-bc21-1af86e69fb31",
   "metadata": {},
   "outputs": [],
   "source": [
    "# List all products in the \"Electronics\" category sorted by price in descending order"
   ]
  },
  {
   "cell_type": "code",
   "execution_count": null,
   "id": "c05d94cf-20fc-4000-a120-df1ef2ac5d01",
   "metadata": {},
   "outputs": [],
   "source": [
    "# Get the total number of orders and total revenue for each customer"
   ]
  },
  {
   "cell_type": "code",
   "execution_count": null,
   "id": "40694830-be1d-4f24-8c3c-72511e185295",
   "metadata": {},
   "outputs": [],
   "source": [
    "# Find the most expensive product purchased in each order"
   ]
  },
  {
   "cell_type": "code",
   "execution_count": null,
   "id": "73fea585-bdbe-4fcb-b7cb-366995a4d04b",
   "metadata": {},
   "outputs": [],
   "source": [
    "# Show the total revenue generated per product"
   ]
  }
 ],
 "metadata": {
  "kernelspec": {
   "display_name": "Python 3 (ipykernel)",
   "language": "python",
   "name": "python3"
  },
  "language_info": {
   "codemirror_mode": {
    "name": "ipython",
    "version": 3
   },
   "file_extension": ".py",
   "mimetype": "text/x-python",
   "name": "python",
   "nbconvert_exporter": "python",
   "pygments_lexer": "ipython3",
   "version": "3.12.4"
  }
 },
 "nbformat": 4,
 "nbformat_minor": 5
}
