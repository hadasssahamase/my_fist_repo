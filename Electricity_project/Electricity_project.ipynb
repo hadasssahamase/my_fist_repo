{
 "cells": [
  {
   "cell_type": "code",
   "execution_count": 1,
   "id": "baecaf81-f20d-4fac-a381-a5b8c5e5ab45",
   "metadata": {},
   "outputs": [],
   "source": [
    "#Importing necessary libraries\n",
    "import pandas as pd\n",
    "import matplotlib.pyplot as plt\n",
    "import numpy as np\n",
    "import seaborn as sns"
   ]
  },
  {
   "cell_type": "code",
   "execution_count": 2,
   "id": "472d2f43-a3cc-4656-b036-0ae56003d686",
   "metadata": {},
   "outputs": [
    {
     "data": {
      "text/html": [
       "<div>\n",
       "<style scoped>\n",
       "    .dataframe tbody tr th:only-of-type {\n",
       "        vertical-align: middle;\n",
       "    }\n",
       "\n",
       "    .dataframe tbody tr th {\n",
       "        vertical-align: top;\n",
       "    }\n",
       "\n",
       "    .dataframe thead th {\n",
       "        text-align: right;\n",
       "    }\n",
       "</style>\n",
       "<table border=\"1\" class=\"dataframe\">\n",
       "  <thead>\n",
       "    <tr style=\"text-align: right;\">\n",
       "      <th></th>\n",
       "      <th>Fan</th>\n",
       "      <th>Refrigerator</th>\n",
       "      <th>AirConditioner</th>\n",
       "      <th>Television</th>\n",
       "      <th>Monitor</th>\n",
       "      <th>MotorPump</th>\n",
       "      <th>Month</th>\n",
       "      <th>City</th>\n",
       "      <th>Company</th>\n",
       "      <th>MonthlyHours</th>\n",
       "      <th>TariffRate</th>\n",
       "      <th>ElectricityBill</th>\n",
       "    </tr>\n",
       "  </thead>\n",
       "  <tbody>\n",
       "    <tr>\n",
       "      <th>0</th>\n",
       "      <td>16</td>\n",
       "      <td>23.0</td>\n",
       "      <td>2.0</td>\n",
       "      <td>6.0</td>\n",
       "      <td>1.0</td>\n",
       "      <td>0</td>\n",
       "      <td>10</td>\n",
       "      <td>Hyderabad</td>\n",
       "      <td>Tata Power Company Ltd.</td>\n",
       "      <td>384</td>\n",
       "      <td>8.4</td>\n",
       "      <td>3225.6</td>\n",
       "    </tr>\n",
       "    <tr>\n",
       "      <th>1</th>\n",
       "      <td>19</td>\n",
       "      <td>22.0</td>\n",
       "      <td>2.0</td>\n",
       "      <td>3.0</td>\n",
       "      <td>1.0</td>\n",
       "      <td>0</td>\n",
       "      <td>5</td>\n",
       "      <td>Vadodara</td>\n",
       "      <td>NHPC</td>\n",
       "      <td>488</td>\n",
       "      <td>7.8</td>\n",
       "      <td>3806.4</td>\n",
       "    </tr>\n",
       "    <tr>\n",
       "      <th>2</th>\n",
       "      <td>7</td>\n",
       "      <td>20.0</td>\n",
       "      <td>2.0</td>\n",
       "      <td>6.0</td>\n",
       "      <td>7.0</td>\n",
       "      <td>0</td>\n",
       "      <td>7</td>\n",
       "      <td>Shimla</td>\n",
       "      <td>Jyoti Structure</td>\n",
       "      <td>416</td>\n",
       "      <td>7.7</td>\n",
       "      <td>3203.2</td>\n",
       "    </tr>\n",
       "    <tr>\n",
       "      <th>3</th>\n",
       "      <td>7</td>\n",
       "      <td>22.0</td>\n",
       "      <td>3.0</td>\n",
       "      <td>21.0</td>\n",
       "      <td>1.0</td>\n",
       "      <td>0</td>\n",
       "      <td>6</td>\n",
       "      <td>Mumbai</td>\n",
       "      <td>Power Grid Corp</td>\n",
       "      <td>475</td>\n",
       "      <td>9.2</td>\n",
       "      <td>4370.0</td>\n",
       "    </tr>\n",
       "    <tr>\n",
       "      <th>4</th>\n",
       "      <td>11</td>\n",
       "      <td>23.0</td>\n",
       "      <td>2.0</td>\n",
       "      <td>11.0</td>\n",
       "      <td>1.0</td>\n",
       "      <td>0</td>\n",
       "      <td>2</td>\n",
       "      <td>Mumbai</td>\n",
       "      <td>Ratnagiri Gas and Power Pvt. Ltd. (RGPPL)</td>\n",
       "      <td>457</td>\n",
       "      <td>9.2</td>\n",
       "      <td>4204.4</td>\n",
       "    </tr>\n",
       "  </tbody>\n",
       "</table>\n",
       "</div>"
      ],
      "text/plain": [
       "   Fan  Refrigerator  AirConditioner  Television  Monitor  MotorPump  Month  \\\n",
       "0   16          23.0             2.0         6.0      1.0          0     10   \n",
       "1   19          22.0             2.0         3.0      1.0          0      5   \n",
       "2    7          20.0             2.0         6.0      7.0          0      7   \n",
       "3    7          22.0             3.0        21.0      1.0          0      6   \n",
       "4   11          23.0             2.0        11.0      1.0          0      2   \n",
       "\n",
       "        City                                    Company  MonthlyHours  \\\n",
       "0  Hyderabad                    Tata Power Company Ltd.           384   \n",
       "1   Vadodara                                       NHPC           488   \n",
       "2     Shimla                            Jyoti Structure           416   \n",
       "3     Mumbai                            Power Grid Corp           475   \n",
       "4     Mumbai  Ratnagiri Gas and Power Pvt. Ltd. (RGPPL)           457   \n",
       "\n",
       "   TariffRate  ElectricityBill  \n",
       "0         8.4           3225.6  \n",
       "1         7.8           3806.4  \n",
       "2         7.7           3203.2  \n",
       "3         9.2           4370.0  \n",
       "4         9.2           4204.4  "
      ]
     },
     "execution_count": 2,
     "metadata": {},
     "output_type": "execute_result"
    }
   ],
   "source": [
    "#Loading the data set\n",
    "df = pd.read_csv('electricity_bill_dataset.csv')\n",
    "df.head()"
   ]
  },
  {
   "cell_type": "raw",
   "id": "531d67d3-29be-483c-bce3-0d7b936f1440",
   "metadata": {},
   "source": [
    "# Business Problem\n",
    "## \"Identify and recommend strategies for optimizing electricity consumption and reducing costs for customers across different cities, focusing on appliance usage patterns, company tariffs, and seasonal variations.\""
   ]
  },
  {
   "cell_type": "code",
   "execution_count": null,
   "id": "40d573c9-2cf8-45ce-8a20-5aabf9c790b1",
   "metadata": {},
   "outputs": [],
   "source": [
    "# Business objectives\n",
    "- How to determine which appliances contribute the most to electricity bills across different cities and seasons (Month).\n",
    "- How to identify appliances with inefficient energy consumption in specific cities"
   ]
  },
  {
   "cell_type": "code",
   "execution_count": 3,
   "id": "b1f0d495-4957-42c4-b5d4-f35c5ea80cbf",
   "metadata": {},
   "outputs": [
    {
     "data": {
      "text/plain": [
       "Index(['Fan', 'Refrigerator', 'AirConditioner', 'Television', 'Monitor',\n",
       "       'MotorPump', 'Month', 'City', 'Company', 'MonthlyHours', 'TariffRate',\n",
       "       'ElectricityBill'],\n",
       "      dtype='object')"
      ]
     },
     "execution_count": 3,
     "metadata": {},
     "output_type": "execute_result"
    }
   ],
   "source": [
    "df.columns"
   ]
  },
  {
   "cell_type": "code",
   "execution_count": 4,
   "id": "40bc85a6-bf31-4d9d-8895-7099d9765fd4",
   "metadata": {},
   "outputs": [
    {
     "name": "stdout",
     "output_type": "stream",
     "text": [
      "<class 'pandas.core.frame.DataFrame'>\n",
      "RangeIndex: 45345 entries, 0 to 45344\n",
      "Data columns (total 12 columns):\n",
      " #   Column           Non-Null Count  Dtype  \n",
      "---  ------           --------------  -----  \n",
      " 0   Fan              45345 non-null  int64  \n",
      " 1   Refrigerator     45345 non-null  float64\n",
      " 2   AirConditioner   45345 non-null  float64\n",
      " 3   Television       45345 non-null  float64\n",
      " 4   Monitor          45345 non-null  float64\n",
      " 5   MotorPump        45345 non-null  int64  \n",
      " 6   Month            45345 non-null  int64  \n",
      " 7   City             45345 non-null  object \n",
      " 8   Company          45345 non-null  object \n",
      " 9   MonthlyHours     45345 non-null  int64  \n",
      " 10  TariffRate       45345 non-null  float64\n",
      " 11  ElectricityBill  45345 non-null  float64\n",
      "dtypes: float64(6), int64(4), object(2)\n",
      "memory usage: 4.2+ MB\n"
     ]
    }
   ],
   "source": [
    "df.info()"
   ]
  },
  {
   "cell_type": "raw",
   "id": "7a54a6c7-53f1-45ba-82ae-03665bae7be5",
   "metadata": {},
   "source": [
    "# Data understanding\n",
    "The above data set has 12 columns\n",
    "1. Fan\n",
    "2. Refrigerator\n",
    "3. Airconditioner\n",
    "4. Television\n",
    "5. Monitor\n",
    "6. Motorpump\n",
    "7. Month\n",
    "8. City\n",
    "9. Company\n",
    "10. Monthlyhours\n",
    "11. Tariffrate\n",
    "12. Electricitybill"
   ]
  },
  {
   "cell_type": "code",
   "execution_count": null,
   "id": "6bbcecb5-ab9f-47d3-8d51-e27df6ed386f",
   "metadata": {},
   "outputs": [],
   "source": [
    "# Data preparation\n",
    "## Data Cleaning"
   ]
  }
 ],
 "metadata": {
  "kernelspec": {
   "display_name": "Python 3 (ipykernel)",
   "language": "python",
   "name": "python3"
  },
  "language_info": {
   "codemirror_mode": {
    "name": "ipython",
    "version": 3
   },
   "file_extension": ".py",
   "mimetype": "text/x-python",
   "name": "python",
   "nbconvert_exporter": "python",
   "pygments_lexer": "ipython3",
   "version": "3.12.7"
  }
 },
 "nbformat": 4,
 "nbformat_minor": 5
}
