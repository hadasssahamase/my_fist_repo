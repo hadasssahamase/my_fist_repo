{
 "cells": [
  {
   "cell_type": "code",
   "execution_count": 1,
   "id": "a5f621e6-ab2f-40ae-a907-a7c2abd52bf3",
   "metadata": {},
   "outputs": [
    {
     "name": "stdout",
     "output_type": "stream",
     "text": [
      "['David', 'PetinaPetina', 'RodgersRodgersRodgers', 'AmaseAmaseAmaseAmase']\n"
     ]
    }
   ],
   "source": [
    "names =[\"David\",\"Petina\",\"Rodgers\",\"Amase\"]\n",
    "names2 = []\n",
    "for name in names:\n",
    "    names2.append((names.index(name)+1) * name)\n",
    "print(names2)  "
   ]
  },
  {
   "cell_type": "code",
   "execution_count": null,
   "id": "09e2c15c-a703-4831-b01e-4f654002e1e3",
   "metadata": {},
   "outputs": [],
   "source": [
    "new=[char[:-index] * index for index,char in enumerate(names, start=1)]"
   ]
  },
  {
   "cell_type": "code",
   "execution_count": 15,
   "id": "a90bfa6d-df4e-4918-b651-14e66e68eaa7",
   "metadata": {},
   "outputs": [
    {
     "data": {
      "text/plain": [
       "['Davi', 'PetiPeti', 'RodgRodgRodg', 'AAAA']"
      ]
     },
     "execution_count": 15,
     "metadata": {},
     "output_type": "execute_result"
    }
   ],
   "source": [
    "names =[\"David\",\"Petina\",\"Rodgers\",\"Amase\"]\n",
    "new = []\n",
    "for index,char in enumerate(names, start=1):\n",
    "    new.append((char[:-index]) * index)\n",
    "new    \n"
   ]
  },
  {
   "cell_type": "code",
   "execution_count": null,
   "id": "92b2d499-f904-4bb1-bbd3-ef7d1ee7b3db",
   "metadata": {},
   "outputs": [],
   "source": []
  }
 ],
 "metadata": {
  "kernelspec": {
   "display_name": "Python 3 (ipykernel)",
   "language": "python",
   "name": "python3"
  },
  "language_info": {
   "codemirror_mode": {
    "name": "ipython",
    "version": 3
   },
   "file_extension": ".py",
   "mimetype": "text/x-python",
   "name": "python",
   "nbconvert_exporter": "python",
   "pygments_lexer": "ipython3",
   "version": "3.12.4"
  }
 },
 "nbformat": 4,
 "nbformat_minor": 5
}
