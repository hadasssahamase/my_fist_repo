{
 "cells": [
  {
   "cell_type": "code",
   "execution_count": null,
   "id": "5947c028-6745-4020-a176-52f77e74313c",
   "metadata": {},
   "outputs": [],
   "source": [
    "create a function that will input a patient's name, age ,sex and weight into a list or dictionary. have a user input for the patient's ailments. \n",
    "create a list or dictionary with conditions and prescriptions that you will use matchcase statements to prescribe the medicine in the above list or dictionary. \n",
    "create a default statement so that when a patient  inputs a condition that is not in your list either refer or admit."
   ]
  },
  {
   "cell_type": "code",
   "execution_count": 6,
   "id": "b2e0b105-7f2f-41fc-bb4b-1cdd07f4acc6",
   "metadata": {},
   "outputs": [
    {
     "name": "stdin",
     "output_type": "stream",
     "text": [
      "Enter key:  name\n",
      "Enter value:  amase\n",
      "Enter key:  sex\n",
      "Enter value:  female\n",
      "Enter key:  age \n",
      "Enter value:  20\n",
      "Enter key:  weight\n",
      "Enter value:  78\n",
      "How are you feeling today?  headache\n"
     ]
    },
    {
     "name": "stdout",
     "output_type": "stream",
     "text": [
      "Admit or Refer\n"
     ]
    }
   ],
   "source": [
    "def treatment():\n",
    "    biodata={}\n",
    "    for _ in range(4): \n",
    "        key = input(\"Enter key: \")\n",
    "        value = input(\"Enter value: \")\n",
    "        if value.isdigit():  \n",
    "            value = int(value)\n",
    "        else:\n",
    "                try:\n",
    "                    value = float(value) \n",
    "                except ValueError:\n",
    "                    pass \n",
    "    \n",
    "        biodata[key] = value\n",
    "    ailments = input(\"How are you feeling today? \").lower()\n",
    "    \n",
    "    match ailments:\n",
    "        case 'cough':\n",
    "            print(\"Take Ascoril syrup\")\n",
    "        case 'stomachache':\n",
    "            print(\"Take Metronidazole\")\n",
    "        case 'crumps':\n",
    "            print(\"Take Brufen\")\n",
    "        case 'chestpains':\n",
    "            print(\"Take Digoxin\")\n",
    "        case _:\n",
    "            print(\"Admit or Refer\")\n",
    "        \n",
    "        \n",
    "\n",
    "treatment()"
   ]
  },
  {
   "cell_type": "code",
   "execution_count": null,
   "id": "8be976ec-9db6-4576-9759-0b71734d78e8",
   "metadata": {},
   "outputs": [],
   "source": [
    "biodata={}\n",
    "list_key=['name','sex','age','weight']\n",
    "for char in list_key:\n",
    "    while True:\n",
    "        try:\n",
    "            if char=='age' or char=='weight':\n",
    "                biodata[char]=float(input(f\"patient's {char}\"))\n",
    "                break  \n",
    "        except ValueError:\n",
    "            print(f'{char} kindly input an integer or float')\n",
    "        \n",
    "        else:   \n",
    "            biodata[char]=input(f'Enter patient {char}')"
   ]
  },
  {
   "cell_type": "code",
   "execution_count": null,
   "id": "a6a637fb-1a84-4432-a2a5-127dbb9c6819",
   "metadata": {},
   "outputs": [],
   "source": [
    "print(biodata)"
   ]
  },
  {
   "cell_type": "code",
   "execution_count": 8,
   "id": "85199571-7aa3-4e6b-a290-ddf795c3afde",
   "metadata": {},
   "outputs": [
    {
     "name": "stdin",
     "output_type": "stream",
     "text": [
      "Enter patient's name:  amase\n",
      "Enter patient's sex:  female\n",
      "Enter patient's age:  six\n"
     ]
    },
    {
     "name": "stdout",
     "output_type": "stream",
     "text": [
      "age: Kindly input a valid number (integer or float)\n"
     ]
    },
    {
     "name": "stdin",
     "output_type": "stream",
     "text": [
      "Enter patient's age:  6\n",
      "Enter patient's weight:  sixty\n"
     ]
    },
    {
     "name": "stdout",
     "output_type": "stream",
     "text": [
      "weight: Kindly input a valid number (integer or float)\n"
     ]
    },
    {
     "name": "stdin",
     "output_type": "stream",
     "text": [
      "Enter patient's weight:  60\n",
      "How are you feeling today?  crumps\n"
     ]
    },
    {
     "name": "stdout",
     "output_type": "stream",
     "text": [
      "Take Brufen\n"
     ]
    }
   ],
   "source": [
    "def treatment():\n",
    "    biodata = {}\n",
    "    list_key = ['name', 'sex', 'age', 'weight']\n",
    "\n",
    "    for char in list_key:\n",
    "        while True:\n",
    "            try:\n",
    "                if char == 'age' or char == 'weight':\n",
    "                    biodata[char] = float(input(f\"Enter patient's {char}: \"))\n",
    "                    break  # Exit the loop if successful\n",
    "                else:\n",
    "                    biodata[char] = input(f\"Enter patient's {char}: \")\n",
    "                    break  # Exit the loop for non-numerical input\n",
    "            except ValueError:\n",
    "                print(f\"{char}: Kindly input a valid number (integer or float)\")\n",
    "    ailments = input(\"How are you feeling today? \").lower()\n",
    "    \n",
    "    match ailments:\n",
    "        case 'cough':\n",
    "            print(\"Take Ascoril syrup\")\n",
    "        case 'stomachache':\n",
    "            print(\"Take Metronidazole\")\n",
    "        case 'crumps':\n",
    "            print(\"Take Brufen\")\n",
    "        case 'chestpains':\n",
    "            print(\"Take Digoxin\")\n",
    "        case _:\n",
    "            print(\"Admit or Refer\")\n",
    "        \n",
    "                    \n",
    "treatment()"
   ]
  },
  {
   "cell_type": "code",
   "execution_count": null,
   "id": "5be5aa6d-dbaa-48ac-95dd-d47efc05ea35",
   "metadata": {},
   "outputs": [],
   "source": []
  }
 ],
 "metadata": {
  "kernelspec": {
   "display_name": "Python 3 (ipykernel)",
   "language": "python",
   "name": "python3"
  },
  "language_info": {
   "codemirror_mode": {
    "name": "ipython",
    "version": 3
   },
   "file_extension": ".py",
   "mimetype": "text/x-python",
   "name": "python",
   "nbconvert_exporter": "python",
   "pygments_lexer": "ipython3",
   "version": "3.12.4"
  }
 },
 "nbformat": 4,
 "nbformat_minor": 5
}
