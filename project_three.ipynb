{
 "cells": [
  {
   "cell_type": "code",
   "execution_count": 1,
   "id": "a5f621e6-ab2f-40ae-a907-a7c2abd52bf3",
   "metadata": {},
   "outputs": [
    {
     "name": "stdout",
     "output_type": "stream",
     "text": [
      "['David', 'PetinaPetina', 'RodgersRodgersRodgers', 'AmaseAmaseAmaseAmase']\n"
     ]
    }
   ],
   "source": [
    "names =[\"David\",\"Petina\",\"Rodgers\",\"Amase\"]\n",
    "names2 = []\n",
    "for name in names:\n",
    "    names2.append((names.index(name)+1) * name)\n",
    "print(names2)  "
   ]
  },
  {
   "cell_type": "code",
   "execution_count": null,
   "id": "09e2c15c-a703-4831-b01e-4f654002e1e3",
   "metadata": {},
   "outputs": [],
   "source": []
  }
 ],
 "metadata": {
  "kernelspec": {
   "display_name": "Python 3 (ipykernel)",
   "language": "python",
   "name": "python3"
  },
  "language_info": {
   "codemirror_mode": {
    "name": "ipython",
    "version": 3
   },
   "file_extension": ".py",
   "mimetype": "text/x-python",
   "name": "python",
   "nbconvert_exporter": "python",
   "pygments_lexer": "ipython3",
   "version": "3.12.4"
  }
 },
 "nbformat": 4,
 "nbformat_minor": 5
}
