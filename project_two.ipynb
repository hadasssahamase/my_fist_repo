{
 "cells": [
  {
   "cell_type": "code",
   "execution_count": null,
   "id": "4ac85587-6172-44c5-b219-4036ece403cb",
   "metadata": {},
   "outputs": [],
   "source": [
    "create a program:\n",
    "1. takes in the details of formula 1 drivers e.g. their names and the race team\n",
    "save this details under a variable called biodata\n",
    "2. each driver to race needs a password that they must say during race day\n",
    "3. so find a way to a.) take in each driver's password b.) validate each drivers password\n",
    "4, if driver is validated print('driver can race!!)\n",
    "5. if they fail to provide password print('try again, or race again next race day') ~ should be in caps, without using capital letters in the print statement"
   ]
  },
  {
   "cell_type": "code",
   "execution_count": null,
   "id": "502c1d1a-31aa-4eb0-91eb-7080b37fd517",
   "metadata": {},
   "outputs": [],
   "source": [
    "def formula_one():\n",
    "    biodata ={\"Max Verstappen\":\"Redbull\",\"Lando Norris\":\"Mclaren\",\"Charles Leclerc\":\"Ferrari\",\"Lewis Hamilton\":\"Mercedes\",\"Fernando Alonso\":\"Aston Martin\",\"Nico Hulkenberge\":\"Haas\",\"Yuki Tsunoda\":\"Rb\",\"Pierre Gasly\":\"Alpinec\",\"Alexander\":\"Williams\",\"Zhou Guanyu\":\"Kick Sauber\"}\n",
    "    name = input(\"what is your name?\")\n",
    "    password = [101,102,103,104,105,106,107,108,109,110]\n",
    "    password[0] = biodata.keys\n",
    "    password_input = int(input(\"what is your password?\"))\n",
    "    if password_input in password:\n",
    "        print(f\"you can race! {name}\".upper())\n",
    "    else:\n",
    "        print(\"Try again or Race again next race day!\".upper())\n",
    "formula_one()    "
   ]
  },
  {
   "cell_type": "code",
   "execution_count": null,
   "id": "7e2b0297-594d-4b69-a57b-9e01ee0068ba",
   "metadata": {},
   "outputs": [],
   "source": [
    "def formula_one():\n",
    "    biodata ={\"Max Verstappen\":\"Redbull\",\"Lando Norris\":\"Mclaren\",\"Charles Leclerc\":\"Ferrari\",\"Lewis Hamilton\":\"Mercedes\",\"Fernando Alonso\":\"Aston Martin\",\"Nico Hulkenberge\":\"Haas\",\"Yuki Tsunoda\":\"Rb\",\"Pierre Gasly\":\"Alpinec\",\"Alexander\":\"Williams\",\"Zhou Guanyu\":\"Kick Sauber\"}\n",
    "    name = input(\"what is your name?\")\n",
    "    password = {\"Max Verstappen\":101,\"Lando Norris\":102,\"Charles Leclerc\":103,\"Lewis Hamilton\":104,\"Fernando Alonso\":105,\"Nico Hulkenberge\":106,\"Yuki Tsunoda\":107,\"Pierre Gasly\":108,\"Alexander\":109,\"Zhou Guanyu\":110}\n",
    "    while True:\n",
    "        password_input = int(input(\"what is your password?\"))\n",
    "        if password_input == password[name]:\n",
    "            print(f\"you can race! {name}\".upper())\n",
    "            break\n",
    "        else:\n",
    "            print(\"Try again or Race again next race day!\".upper())\n",
    "formula_one()    "
   ]
  },
  {
   "cell_type": "code",
   "execution_count": null,
   "id": "58c845da-e6eb-40f0-967f-6e6957eb0c06",
   "metadata": {},
   "outputs": [],
   "source": [
    "def formula_one():\n",
    "    biodata ={\"Max Verstappen\":\"Redbull\",\"Lando Norris\":\"Mclaren\",\"Charles Leclerc\":\"Ferrari\",\"Lewis Hamilton\":\"Mercedes\",\"Fernando Alonso\":\"Aston Martin\",\"Nico Hulkenberge\":\"Haas\",\"Yuki Tsunoda\":\"Rb\",\"Pierre Gasly\":\"Alpinec\",\"Alexander\":\"Williams\",\"Zhou Guanyu\":\"Kick Sauber\"}\n",
    "    while len(biodata):\n",
    "        name = input(\"what is your name?\")\n",
    "        password = {\"Max Verstappen\":101,\"Lando Norris\":102,\"Charles Leclerc\":103,\"Lewis Hamilton\":104,\"Fernando Alonso\":105,\"Nico Hulkenberge\":106,\"Yuki Tsunoda\":107,\"Pierre Gasly\":108,\"Alexander\":109,\"Zhou Guanyu\":110}\n",
    "        while True:\n",
    "            password_input = int(input(\"what is your password?\"))\n",
    "            if password_input == password[name]:\n",
    "                print(f\"you can race! {name}\".upper())\n",
    "                break\n",
    "            else:\n",
    "                print(\"Try again or Race again next race day!\".upper())\n",
    "formula_one()    "
   ]
  }
 ],
 "metadata": {
  "kernelspec": {
   "display_name": "Python 3 (ipykernel)",
   "language": "python",
   "name": "python3"
  },
  "language_info": {
   "codemirror_mode": {
    "name": "ipython",
    "version": 3
   },
   "file_extension": ".py",
   "mimetype": "text/x-python",
   "name": "python",
   "nbconvert_exporter": "python",
   "pygments_lexer": "ipython3",
   "version": "3.12.4"
  }
 },
 "nbformat": 4,
 "nbformat_minor": 5
}
