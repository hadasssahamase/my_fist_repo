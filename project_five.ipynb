{
 "cells": [
  {
   "cell_type": "code",
   "execution_count": null,
   "id": "c1f2d8e2-82df-4420-920d-011794df1716",
   "metadata": {},
   "outputs": [],
   "source": [
    "# so the challenge is this, create function that takes ini the names of guest, \n",
    "# the time they arrive, the items they use while in the supermarket or hotel, \n",
    "# the quantity of each item and price will also be used in the final receipt when calculating their total bill, \n",
    "# as they leave, be sure to also note the time they left\n",
    "# think of it as you entering the supermarket and how the receipt might look like\n",
    "# also ensure to tell us which item was used the most or most frequently\n",
    "# make sure to study on the datetime module and counter class\n",
    "\n"
   ]
  },
  {
   "cell_type": "code",
   "execution_count": 8,
   "id": "be558f63-64fb-47d9-95f7-5508310826a2",
   "metadata": {},
   "outputs": [],
   "source": [
    "import datetime\n",
    "from datetime import date\n",
    "from datetime import time\n",
    "from datetime import timedelta\n",
    "from collections import Counter\n",
    "from datetime import datetime"
   ]
  },
  {
   "cell_type": "code",
   "execution_count": 22,
   "id": "9c69ae35-97ca-4a0f-9afb-aba9108246bc",
   "metadata": {},
   "outputs": [
    {
     "name": "stdin",
     "output_type": "stream",
     "text": [
      "Hello, what is your name? david\n"
     ]
    },
    {
     "name": "stdout",
     "output_type": "stream",
     "text": [
      "Welcome David to costarico!\n",
      "Check_in: 2024-11-19 21:43:19.322953\n"
     ]
    },
    {
     "name": "stdin",
     "output_type": "stream",
     "text": [
      "What would you like to purchase? (type \"done\" to finish):  crips\n"
     ]
    },
    {
     "name": "stdout",
     "output_type": "stream",
     "text": [
      "Added crips to your cart. Price: 360 units.\n"
     ]
    },
    {
     "name": "stdin",
     "output_type": "stream",
     "text": [
      "What would you like to purchase? (type \"done\" to finish):  chocolate\n"
     ]
    },
    {
     "name": "stdout",
     "output_type": "stream",
     "text": [
      "Added chocolate to your cart. Price: 260 units.\n"
     ]
    },
    {
     "name": "stdin",
     "output_type": "stream",
     "text": [
      "What would you like to purchase? (type \"done\" to finish):  done\n"
     ]
    },
    {
     "name": "stdout",
     "output_type": "stream",
     "text": [
      "\n",
      "Thank you, David! Your total bill is 620 ksh.\n",
      "Check_out: 2024-11-19 21:43:28.767661\n"
     ]
    }
   ],
   "source": [
    "def reception():\n",
    "    guest = input('Hello, what is your name?').title()\n",
    "    print(f'Welcome {guest} to costarico!')\n",
    "    now = datetime.now()\n",
    "    print(\"Check_in:\", now)\n",
    "    supermarket = {'toothbrush':150,'chocolate':260,'water':200,'gum':50,'vaseline':210,'crips':360}\n",
    "    counter = Counter(supermarket)\n",
    "    \n",
    "    total_cost = 0 \n",
    "    while True:\n",
    "        shopping = input('What would you like to purchase? (type \"done\" to finish): ').lower()\n",
    "        \n",
    "        if shopping == \"done\":\n",
    "            break\n",
    "        \n",
    "        if shopping in counter:  \n",
    "            item_price = supermarket[shopping]\n",
    "            total_cost += item_price\n",
    "            print(f'Added {shopping} to your cart. Price: {item_price} units.')\n",
    "        else:\n",
    "            print('Error!! Item does not exist.')\n",
    "    \n",
    "    print(f'\\nThank you, {guest}! Your total bill is {total_cost} ksh.')\n",
    "            \n",
    "    exit = datetime.now()\n",
    "    print(\"Check_out:\",exit)\n",
    "reception()    "
   ]
  },
  {
   "cell_type": "code",
   "execution_count": null,
   "id": "c87056c9-2440-4afe-98a0-bc2eb73c5747",
   "metadata": {},
   "outputs": [],
   "source": []
  }
 ],
 "metadata": {
  "kernelspec": {
   "display_name": "Python 3 (ipykernel)",
   "language": "python",
   "name": "python3"
  },
  "language_info": {
   "codemirror_mode": {
    "name": "ipython",
    "version": 3
   },
   "file_extension": ".py",
   "mimetype": "text/x-python",
   "name": "python",
   "nbconvert_exporter": "python",
   "pygments_lexer": "ipython3",
   "version": "3.12.4"
  }
 },
 "nbformat": 4,
 "nbformat_minor": 5
}
