{
 "cells": [
  {
   "cell_type": "code",
   "execution_count": null,
   "id": "d3971163-bdcb-4e4d-82bd-3eb44477dfda",
   "metadata": {},
   "outputs": [],
   "source": [
    "# Search for Files: Use the os module to find all .txt files in a given directory and its subdirectories.\n",
    "# Filter File Contents: Use a generator to read each .txt file line-by-line and filter lines containing a specific keyword (e.g., \"Python\").\n",
    "# Transform Results: Use a list comprehension to store the filtered lines as tuples in the format (filename, line_number, line_content).\n",
    "# Output Results: Save the processed results to a new text file called filtered_results.txt."
   ]
  },
  {
   "cell_type": "code",
   "execution_count": 2,
   "id": "74e40b2c-c16d-40ea-b176-7911b4f40d04",
   "metadata": {},
   "outputs": [],
   "source": [
    "import os"
   ]
  },
  {
   "cell_type": "code",
   "execution_count": 26,
   "id": "99ee85fe-69bf-4c27-b04a-5d01d930e536",
   "metadata": {},
   "outputs": [
    {
     "data": {
      "text/plain": [
       "'C:\\\\Users\\\\ADMIN\\\\OneDrive\\\\Desktop\\\\hada data'"
      ]
     },
     "execution_count": 26,
     "metadata": {},
     "output_type": "execute_result"
    }
   ],
   "source": [
    "os.getcwd()"
   ]
  },
  {
   "cell_type": "code",
   "execution_count": 4,
   "id": "02469c8e-27d3-4aa1-9c40-c5b6f628ffc2",
   "metadata": {},
   "outputs": [],
   "source": [
    "with open('project.txt','w')as f:\n",
    "    f.write('taking one day at a time \\n this is a great workout \\n with God all things are possible \\n do it for you')"
   ]
  },
  {
   "cell_type": "code",
   "execution_count": 5,
   "id": "251ac928-419c-446d-935f-edd9cd8182d7",
   "metadata": {},
   "outputs": [],
   "source": [
    "with open('data.txt','w')as f:\n",
    "    f.write('exercise is good for your body \\n growing in christ is the goal \\n connecting with nature is good')"
   ]
  },
  {
   "cell_type": "code",
   "execution_count": 6,
   "id": "b66bfec4-50f2-4dae-b0fa-aeb9c269152c",
   "metadata": {},
   "outputs": [
    {
     "data": {
      "text/plain": [
       "['.git',\n",
       " '.ipynb_checkpoints',\n",
       " 'assingment.ipynb',\n",
       " 'data.txt',\n",
       " 'data_manipulation.ipynb',\n",
       " 'DS-analysis  (1).ipynb',\n",
       " 'loan_approval_dataset.csv',\n",
       " 'matplotlib.ipynb',\n",
       " 'numpy_revision.ipynb',\n",
       " 'project.txt',\n",
       " 'project_five.ipynb',\n",
       " 'project_four.ipynb',\n",
       " 'project_one.ipynb',\n",
       " 'project_six.ipynb',\n",
       " 'project_three.ipynb',\n",
       " 'project_two.ipynb',\n",
       " 'revision.ipynb']"
      ]
     },
     "execution_count": 6,
     "metadata": {},
     "output_type": "execute_result"
    }
   ],
   "source": [
    "os.listdir()"
   ]
  },
  {
   "cell_type": "code",
   "execution_count": 11,
   "id": "04176726-c456-415d-84d1-490bd9924e2d",
   "metadata": {},
   "outputs": [
    {
     "ename": "NameError",
     "evalue": "name 'directory' is not defined",
     "output_type": "error",
     "traceback": [
      "\u001b[1;31m---------------------------------------------------------------------------\u001b[0m",
      "\u001b[1;31mNameError\u001b[0m                                 Traceback (most recent call last)",
      "Cell \u001b[1;32mIn[11], line 1\u001b[0m\n\u001b[1;32m----> 1\u001b[0m \u001b[38;5;28;01mfor\u001b[39;00m files \u001b[38;5;129;01min\u001b[39;00m os\u001b[38;5;241m.\u001b[39mwalk(directory):\n\u001b[0;32m      2\u001b[0m     \u001b[38;5;28mprint\u001b[39m(files)\n",
      "\u001b[1;31mNameError\u001b[0m: name 'directory' is not defined"
     ]
    }
   ],
   "source": [
    "for files in os.walk(directory):\n",
    "    print(files)"
   ]
  },
  {
   "cell_type": "code",
   "execution_count": 12,
   "id": "871a6d9b-30a9-4dfe-8b71-7e098042ea97",
   "metadata": {},
   "outputs": [
    {
     "name": "stdout",
     "output_type": "stream",
     "text": [
      "First yield\n",
      "1\n",
      "Second yield\n",
      "2\n",
      "Third yield\n",
      "3\n"
     ]
    }
   ],
   "source": [
    "def my_generator():\n",
    "    print(\"First yield\")\n",
    "    yield 1\n",
    "    print(\"Second yield\")\n",
    "    yield 2\n",
    "    print(\"Third yield\")\n",
    "    yield 3\n",
    "\n",
    "# Using the generator\n",
    "gen = my_generator()\n",
    "print(next(gen))  \n",
    "print(next(gen))  \n",
    "print(next(gen))  "
   ]
  },
  {
   "cell_type": "code",
   "execution_count": 13,
   "id": "2e8d4a59-7f3b-4d6e-b0d7-ba97a65adec1",
   "metadata": {},
   "outputs": [
    {
     "name": "stdout",
     "output_type": "stream",
     "text": [
      "[0, 4, 16, 36, 64]\n"
     ]
    }
   ],
   "source": [
    "data = (x**2 for x in range(10))  # Generator for squares\n",
    "filtered = (x for x in data if x % 2 == 0)  # Filter even squares\n",
    "print(list(filtered)) "
   ]
  },
  {
   "cell_type": "code",
   "execution_count": 14,
   "id": "8b62aaa4-7a8c-4cdb-83b3-e184c1106aaa",
   "metadata": {},
   "outputs": [],
   "source": [
    "def read_large_file(filepath):\n",
    "    with open(filepath, 'r') as file:\n",
    "        for line in file:\n",
    "            yield line.strip()"
   ]
  },
  {
   "cell_type": "code",
   "execution_count": 15,
   "id": "7178b2cb-5749-4aa0-9404-db8c6de74177",
   "metadata": {},
   "outputs": [
    {
     "name": "stdout",
     "output_type": "stream",
     "text": [
      "Start\n",
      "Received: 10\n"
     ]
    },
    {
     "data": {
      "text/plain": [
       "20"
      ]
     },
     "execution_count": 15,
     "metadata": {},
     "output_type": "execute_result"
    }
   ],
   "source": [
    "def interactive_gen():\n",
    "    print(\"Start\")\n",
    "    x = yield\n",
    "    print(f\"Received: {x}\")\n",
    "    yield x * 2\n",
    "\n",
    "gen = interactive_gen()\n",
    "next(gen)            # Start the generator\n",
    "gen.send(10)         # Output: \"Received: 10\", returns 20\n"
   ]
  },
  {
   "cell_type": "code",
   "execution_count": 16,
   "id": "59fafc38-69bb-410a-90fe-8e1a88368e2a",
   "metadata": {},
   "outputs": [
    {
     "name": "stdout",
     "output_type": "stream",
     "text": [
      "1\n",
      "2\n",
      "3\n"
     ]
    }
   ],
   "source": [
    "def sub_generator():\n",
    "    yield 1\n",
    "    yield 2\n",
    "\n",
    "def main_generator():\n",
    "    yield from sub_generator()\n",
    "    yield 3\n",
    "\n",
    "for value in main_generator():\n",
    "    print(value)  # Output: 1, 2, 3\n"
   ]
  },
  {
   "cell_type": "code",
   "execution_count": 17,
   "id": "56b6b57e-7fd2-46ae-96dd-580e2b883755",
   "metadata": {},
   "outputs": [],
   "source": [
    "for root, dirs, files in os.walk(\"/path/to/directory\"):\n",
    "    print(\"Root Directory:\", root)\n",
    "    print(\"Subdirectories:\", dirs)\n",
    "    print(\"Files:\", files)"
   ]
  },
  {
   "cell_type": "code",
   "execution_count": 27,
   "id": "6947b586-e500-4469-91ee-ec0a08216f0c",
   "metadata": {},
   "outputs": [
    {
     "data": {
      "text/plain": [
       "<generator object search_txt_files at 0x000002350F0B2D40>"
      ]
     },
     "execution_count": 27,
     "metadata": {},
     "output_type": "execute_result"
    }
   ],
   "source": [
    "def search_txt_files(directory):\n",
    "    for root,dirs,files in os.walk(directory):\n",
    "    \n",
    "        for file in files:\n",
    "            if file.endswith('.txt'):\n",
    "                yield os.path.join(root,dirs,file)\n",
    "search_txt_files('C:\\\\Users\\\\ADMIN\\\\OneDrive\\\\Desktop\\\\hada data')  \n",
    "def filter(path,passcode):\n",
    "    with open(path, 'r', encoding='utf-8', errors='ignore') as file:\n",
    "        for line_number, line_content in enumerate(file, start=1):\n",
    "            if keyword in line_content:\n",
    "                yield (os.path.basename(path), line_number, line_content.strip())\n",
    "\n"
   ]
  },
  {
   "cell_type": "code",
   "execution_count": null,
   "id": "d2cd3d5d-b8e6-458c-95bc-0ead4b6b330d",
   "metadata": {},
   "outputs": [],
   "source": [
    "def file_filter():\n",
    "    \n",
    "    \"\"\"\n",
    "    Function searches for all .txt files in the current directory, reads each file line by line,\n",
    "    filters the lines containing the keyword 'opened', and writes the results to \n",
    "    'filtered_results.txt'. The results are stored as tuples containing the filename, \n",
    "    line number, and line content.\n",
    "    \"\"\"\n",
    "    desired_files=[] # Initialize a list to store the names of desired .txt files\n",
    "    \n",
    "    import os\n",
    "    #get current working directory\n",
    "    current_directory="
   ]
  }
 ],
 "metadata": {
  "kernelspec": {
   "display_name": "Python 3 (ipykernel)",
   "language": "python",
   "name": "python3"
  },
  "language_info": {
   "codemirror_mode": {
    "name": "ipython",
    "version": 3
   },
   "file_extension": ".py",
   "mimetype": "text/x-python",
   "name": "python",
   "nbconvert_exporter": "python",
   "pygments_lexer": "ipython3",
   "version": "3.12.4"
  }
 },
 "nbformat": 4,
 "nbformat_minor": 5
}
